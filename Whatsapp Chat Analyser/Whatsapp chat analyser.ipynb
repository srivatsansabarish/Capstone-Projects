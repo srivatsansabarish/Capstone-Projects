{
 "cells": [
  {
   "cell_type": "code",
   "execution_count": 220,
   "metadata": {},
   "outputs": [],
   "source": [
    "import numpy as np\n",
    "import pandas as pd\n",
    "import re\n",
    "import matplotlib\n",
    "import matplotlib.pyplot as plt"
   ]
  },
  {
   "cell_type": "code",
   "execution_count": 221,
   "metadata": {},
   "outputs": [],
   "source": [
    "import warnings\n",
    "warnings.filterwarnings(\"ignore\")"
   ]
  },
  {
   "cell_type": "code",
   "execution_count": null,
   "metadata": {},
   "outputs": [],
   "source": [
    "file = open('WhatsApp Chat 3.0.txt',mode='r',encoding=\"utf8\")\n",
    "watsup_content = file.read()\n",
    "file.close()\n",
    "watsup_content"
   ]
  },
  {
   "cell_type": "code",
   "execution_count": 223,
   "metadata": {},
   "outputs": [],
   "source": [
    "contents=watsup_content.split(\"\\n\")"
   ]
  },
  {
   "cell_type": "markdown",
   "metadata": {},
   "source": [
    "#### Here it shows the gist of how the chat looks like."
   ]
  },
  {
   "cell_type": "code",
   "execution_count": 224,
   "metadata": {},
   "outputs": [
    {
     "name": "stdout",
     "output_type": "stream",
     "text": [
      "18/07/19, 8:17 pm - Messages to this group are now secured with end-to-end encryption. Tap for more info.\n",
      "----\n",
      "18/07/19, 8:17 pm - You created group \"🤔🤔🤔🤔🤔\"\n",
      "----\n",
      "18/07/19, 8:21 pm - Sudarshan Great Lakes: What group man?\n",
      "----\n",
      "18/07/19, 8:22 pm - Ajay Great Lakes: Namma pasanga group\n",
      "----\n"
     ]
    }
   ],
   "source": [
    "for i in range(0,4):\n",
    "    print(contents[i])\n",
    "    print(\"----\")"
   ]
  },
  {
   "cell_type": "code",
   "execution_count": 225,
   "metadata": {},
   "outputs": [
    {
     "data": {
      "text/plain": [
       "12220"
      ]
     },
     "execution_count": 225,
     "metadata": {},
     "output_type": "execute_result"
    }
   ],
   "source": [
    "len(contents)"
   ]
  },
  {
   "cell_type": "code",
   "execution_count": 226,
   "metadata": {},
   "outputs": [],
   "source": [
    "df=pd.DataFrame({\"data\":contents})"
   ]
  },
  {
   "cell_type": "code",
   "execution_count": 227,
   "metadata": {},
   "outputs": [
    {
     "data": {
      "text/html": [
       "<div>\n",
       "<style scoped>\n",
       "    .dataframe tbody tr th:only-of-type {\n",
       "        vertical-align: middle;\n",
       "    }\n",
       "\n",
       "    .dataframe tbody tr th {\n",
       "        vertical-align: top;\n",
       "    }\n",
       "\n",
       "    .dataframe thead th {\n",
       "        text-align: right;\n",
       "    }\n",
       "</style>\n",
       "<table border=\"1\" class=\"dataframe\">\n",
       "  <thead>\n",
       "    <tr style=\"text-align: right;\">\n",
       "      <th></th>\n",
       "      <th>data</th>\n",
       "    </tr>\n",
       "  </thead>\n",
       "  <tbody>\n",
       "    <tr>\n",
       "      <th>0</th>\n",
       "      <td>18/07/19, 8:17 pm - Messages to this group are...</td>\n",
       "    </tr>\n",
       "    <tr>\n",
       "      <th>1</th>\n",
       "      <td>18/07/19, 8:17 pm - You created group \"🤔🤔🤔🤔🤔\"</td>\n",
       "    </tr>\n",
       "    <tr>\n",
       "      <th>2</th>\n",
       "      <td>18/07/19, 8:21 pm - Sudarshan Great Lakes: Wha...</td>\n",
       "    </tr>\n",
       "    <tr>\n",
       "      <th>3</th>\n",
       "      <td>18/07/19, 8:22 pm - Ajay Great Lakes: Namma pa...</td>\n",
       "    </tr>\n",
       "    <tr>\n",
       "      <th>4</th>\n",
       "      <td>18/07/19, 8:23 pm - Sudarshan Great Lakes: Boo...</td>\n",
       "    </tr>\n",
       "  </tbody>\n",
       "</table>\n",
       "</div>"
      ],
      "text/plain": [
       "                                                data\n",
       "0  18/07/19, 8:17 pm - Messages to this group are...\n",
       "1      18/07/19, 8:17 pm - You created group \"🤔🤔🤔🤔🤔\"\n",
       "2  18/07/19, 8:21 pm - Sudarshan Great Lakes: Wha...\n",
       "3  18/07/19, 8:22 pm - Ajay Great Lakes: Namma pa...\n",
       "4  18/07/19, 8:23 pm - Sudarshan Great Lakes: Boo..."
      ]
     },
     "execution_count": 227,
     "metadata": {},
     "output_type": "execute_result"
    }
   ],
   "source": [
    "df.head()"
   ]
  },
  {
   "cell_type": "code",
   "execution_count": 228,
   "metadata": {},
   "outputs": [
    {
     "data": {
      "text/plain": [
       "(12220, 1)"
      ]
     },
     "execution_count": 228,
     "metadata": {},
     "output_type": "execute_result"
    }
   ],
   "source": [
    "df.shape"
   ]
  },
  {
   "cell_type": "code",
   "execution_count": 229,
   "metadata": {},
   "outputs": [],
   "source": [
    "df[\"Group_Name\"]=df[\"data\"].str.extract('(\".*\")',expand=True)"
   ]
  },
  {
   "cell_type": "code",
   "execution_count": 230,
   "metadata": {},
   "outputs": [
    {
     "data": {
      "text/html": [
       "<div>\n",
       "<style scoped>\n",
       "    .dataframe tbody tr th:only-of-type {\n",
       "        vertical-align: middle;\n",
       "    }\n",
       "\n",
       "    .dataframe tbody tr th {\n",
       "        vertical-align: top;\n",
       "    }\n",
       "\n",
       "    .dataframe thead th {\n",
       "        text-align: right;\n",
       "    }\n",
       "</style>\n",
       "<table border=\"1\" class=\"dataframe\">\n",
       "  <thead>\n",
       "    <tr style=\"text-align: right;\">\n",
       "      <th></th>\n",
       "      <th>data</th>\n",
       "      <th>Group_Name</th>\n",
       "    </tr>\n",
       "  </thead>\n",
       "  <tbody>\n",
       "    <tr>\n",
       "      <th>0</th>\n",
       "      <td>18/07/19, 8:17 pm - Messages to this group are...</td>\n",
       "      <td>NaN</td>\n",
       "    </tr>\n",
       "    <tr>\n",
       "      <th>1</th>\n",
       "      <td>18/07/19, 8:17 pm - You created group \"🤔🤔🤔🤔🤔\"</td>\n",
       "      <td>\"🤔🤔🤔🤔🤔\"</td>\n",
       "    </tr>\n",
       "    <tr>\n",
       "      <th>2</th>\n",
       "      <td>18/07/19, 8:21 pm - Sudarshan Great Lakes: Wha...</td>\n",
       "      <td>NaN</td>\n",
       "    </tr>\n",
       "    <tr>\n",
       "      <th>3</th>\n",
       "      <td>18/07/19, 8:22 pm - Ajay Great Lakes: Namma pa...</td>\n",
       "      <td>NaN</td>\n",
       "    </tr>\n",
       "    <tr>\n",
       "      <th>4</th>\n",
       "      <td>18/07/19, 8:23 pm - Sudarshan Great Lakes: Boo...</td>\n",
       "      <td>NaN</td>\n",
       "    </tr>\n",
       "  </tbody>\n",
       "</table>\n",
       "</div>"
      ],
      "text/plain": [
       "                                                data Group_Name\n",
       "0  18/07/19, 8:17 pm - Messages to this group are...        NaN\n",
       "1      18/07/19, 8:17 pm - You created group \"🤔🤔🤔🤔🤔\"    \"🤔🤔🤔🤔🤔\"\n",
       "2  18/07/19, 8:21 pm - Sudarshan Great Lakes: Wha...        NaN\n",
       "3  18/07/19, 8:22 pm - Ajay Great Lakes: Namma pa...        NaN\n",
       "4  18/07/19, 8:23 pm - Sudarshan Great Lakes: Boo...        NaN"
      ]
     },
     "execution_count": 230,
     "metadata": {},
     "output_type": "execute_result"
    }
   ],
   "source": [
    "df.head()"
   ]
  },
  {
   "cell_type": "markdown",
   "metadata": {},
   "source": [
    "#### 'ffill' stands for 'forward fill' and will propagate last valid observation forward"
   ]
  },
  {
   "cell_type": "code",
   "execution_count": 231,
   "metadata": {},
   "outputs": [],
   "source": [
    "df[\"Group_Name\"].fillna(method='ffill',inplace=True)"
   ]
  },
  {
   "cell_type": "markdown",
   "metadata": {},
   "source": [
    "#### It displays all the group names"
   ]
  },
  {
   "cell_type": "code",
   "execution_count": null,
   "metadata": {},
   "outputs": [],
   "source": [
    "df[\"Group_Name\"].value_counts()"
   ]
  },
  {
   "cell_type": "markdown",
   "metadata": {},
   "source": [
    "#### Extracting Date from the data column"
   ]
  },
  {
   "cell_type": "code",
   "execution_count": 233,
   "metadata": {},
   "outputs": [],
   "source": [
    "df[\"Date\"]=df[\"data\"].str.extract('(\\d+\\/\\d+\\/\\d+)',expand=True)"
   ]
  },
  {
   "cell_type": "code",
   "execution_count": 234,
   "metadata": {},
   "outputs": [
    {
     "data": {
      "text/html": [
       "<div>\n",
       "<style scoped>\n",
       "    .dataframe tbody tr th:only-of-type {\n",
       "        vertical-align: middle;\n",
       "    }\n",
       "\n",
       "    .dataframe tbody tr th {\n",
       "        vertical-align: top;\n",
       "    }\n",
       "\n",
       "    .dataframe thead th {\n",
       "        text-align: right;\n",
       "    }\n",
       "</style>\n",
       "<table border=\"1\" class=\"dataframe\">\n",
       "  <thead>\n",
       "    <tr style=\"text-align: right;\">\n",
       "      <th></th>\n",
       "      <th>data</th>\n",
       "      <th>Group_Name</th>\n",
       "      <th>Date</th>\n",
       "    </tr>\n",
       "  </thead>\n",
       "  <tbody>\n",
       "    <tr>\n",
       "      <th>0</th>\n",
       "      <td>18/07/19, 8:17 pm - Messages to this group are...</td>\n",
       "      <td>NaN</td>\n",
       "      <td>18/07/19</td>\n",
       "    </tr>\n",
       "    <tr>\n",
       "      <th>1</th>\n",
       "      <td>18/07/19, 8:17 pm - You created group \"🤔🤔🤔🤔🤔\"</td>\n",
       "      <td>\"🤔🤔🤔🤔🤔\"</td>\n",
       "      <td>18/07/19</td>\n",
       "    </tr>\n",
       "    <tr>\n",
       "      <th>2</th>\n",
       "      <td>18/07/19, 8:21 pm - Sudarshan Great Lakes: Wha...</td>\n",
       "      <td>\"🤔🤔🤔🤔🤔\"</td>\n",
       "      <td>18/07/19</td>\n",
       "    </tr>\n",
       "    <tr>\n",
       "      <th>3</th>\n",
       "      <td>18/07/19, 8:22 pm - Ajay Great Lakes: Namma pa...</td>\n",
       "      <td>\"🤔🤔🤔🤔🤔\"</td>\n",
       "      <td>18/07/19</td>\n",
       "    </tr>\n",
       "    <tr>\n",
       "      <th>4</th>\n",
       "      <td>18/07/19, 8:23 pm - Sudarshan Great Lakes: Boo...</td>\n",
       "      <td>\"🤔🤔🤔🤔🤔\"</td>\n",
       "      <td>18/07/19</td>\n",
       "    </tr>\n",
       "  </tbody>\n",
       "</table>\n",
       "</div>"
      ],
      "text/plain": [
       "                                                data Group_Name      Date\n",
       "0  18/07/19, 8:17 pm - Messages to this group are...        NaN  18/07/19\n",
       "1      18/07/19, 8:17 pm - You created group \"🤔🤔🤔🤔🤔\"    \"🤔🤔🤔🤔🤔\"  18/07/19\n",
       "2  18/07/19, 8:21 pm - Sudarshan Great Lakes: Wha...    \"🤔🤔🤔🤔🤔\"  18/07/19\n",
       "3  18/07/19, 8:22 pm - Ajay Great Lakes: Namma pa...    \"🤔🤔🤔🤔🤔\"  18/07/19\n",
       "4  18/07/19, 8:23 pm - Sudarshan Great Lakes: Boo...    \"🤔🤔🤔🤔🤔\"  18/07/19"
      ]
     },
     "execution_count": 234,
     "metadata": {},
     "output_type": "execute_result"
    }
   ],
   "source": [
    "df.head()"
   ]
  },
  {
   "cell_type": "markdown",
   "metadata": {},
   "source": [
    "#### Extracting time from the data column"
   ]
  },
  {
   "cell_type": "code",
   "execution_count": 235,
   "metadata": {},
   "outputs": [],
   "source": [
    "df[\"time\"]=df[\"data\"].str.extract('(\\d+\\:\\d+\\s\\w*)',expand=True)"
   ]
  },
  {
   "cell_type": "code",
   "execution_count": 236,
   "metadata": {},
   "outputs": [
    {
     "data": {
      "text/html": [
       "<div>\n",
       "<style scoped>\n",
       "    .dataframe tbody tr th:only-of-type {\n",
       "        vertical-align: middle;\n",
       "    }\n",
       "\n",
       "    .dataframe tbody tr th {\n",
       "        vertical-align: top;\n",
       "    }\n",
       "\n",
       "    .dataframe thead th {\n",
       "        text-align: right;\n",
       "    }\n",
       "</style>\n",
       "<table border=\"1\" class=\"dataframe\">\n",
       "  <thead>\n",
       "    <tr style=\"text-align: right;\">\n",
       "      <th></th>\n",
       "      <th>data</th>\n",
       "      <th>Group_Name</th>\n",
       "      <th>Date</th>\n",
       "      <th>time</th>\n",
       "    </tr>\n",
       "  </thead>\n",
       "  <tbody>\n",
       "    <tr>\n",
       "      <th>0</th>\n",
       "      <td>18/07/19, 8:17 pm - Messages to this group are...</td>\n",
       "      <td>NaN</td>\n",
       "      <td>18/07/19</td>\n",
       "      <td>8:17 pm</td>\n",
       "    </tr>\n",
       "    <tr>\n",
       "      <th>1</th>\n",
       "      <td>18/07/19, 8:17 pm - You created group \"🤔🤔🤔🤔🤔\"</td>\n",
       "      <td>\"🤔🤔🤔🤔🤔\"</td>\n",
       "      <td>18/07/19</td>\n",
       "      <td>8:17 pm</td>\n",
       "    </tr>\n",
       "    <tr>\n",
       "      <th>2</th>\n",
       "      <td>18/07/19, 8:21 pm - Sudarshan Great Lakes: Wha...</td>\n",
       "      <td>\"🤔🤔🤔🤔🤔\"</td>\n",
       "      <td>18/07/19</td>\n",
       "      <td>8:21 pm</td>\n",
       "    </tr>\n",
       "    <tr>\n",
       "      <th>3</th>\n",
       "      <td>18/07/19, 8:22 pm - Ajay Great Lakes: Namma pa...</td>\n",
       "      <td>\"🤔🤔🤔🤔🤔\"</td>\n",
       "      <td>18/07/19</td>\n",
       "      <td>8:22 pm</td>\n",
       "    </tr>\n",
       "    <tr>\n",
       "      <th>4</th>\n",
       "      <td>18/07/19, 8:23 pm - Sudarshan Great Lakes: Boo...</td>\n",
       "      <td>\"🤔🤔🤔🤔🤔\"</td>\n",
       "      <td>18/07/19</td>\n",
       "      <td>8:23 pm</td>\n",
       "    </tr>\n",
       "  </tbody>\n",
       "</table>\n",
       "</div>"
      ],
      "text/plain": [
       "                                                data Group_Name      Date  \\\n",
       "0  18/07/19, 8:17 pm - Messages to this group are...        NaN  18/07/19   \n",
       "1      18/07/19, 8:17 pm - You created group \"🤔🤔🤔🤔🤔\"    \"🤔🤔🤔🤔🤔\"  18/07/19   \n",
       "2  18/07/19, 8:21 pm - Sudarshan Great Lakes: Wha...    \"🤔🤔🤔🤔🤔\"  18/07/19   \n",
       "3  18/07/19, 8:22 pm - Ajay Great Lakes: Namma pa...    \"🤔🤔🤔🤔🤔\"  18/07/19   \n",
       "4  18/07/19, 8:23 pm - Sudarshan Great Lakes: Boo...    \"🤔🤔🤔🤔🤔\"  18/07/19   \n",
       "\n",
       "      time  \n",
       "0  8:17 pm  \n",
       "1  8:17 pm  \n",
       "2  8:21 pm  \n",
       "3  8:22 pm  \n",
       "4  8:23 pm  "
      ]
     },
     "execution_count": 236,
     "metadata": {},
     "output_type": "execute_result"
    }
   ],
   "source": [
    "df.head()"
   ]
  },
  {
   "cell_type": "markdown",
   "metadata": {},
   "source": [
    "#### Extracting chat and username from the data column"
   ]
  },
  {
   "cell_type": "code",
   "execution_count": 237,
   "metadata": {},
   "outputs": [],
   "source": [
    "df[\"text\"]=df[\"data\"].str.extract(\"(-\\s\\w*.*)\",expand=True)"
   ]
  },
  {
   "cell_type": "code",
   "execution_count": 238,
   "metadata": {},
   "outputs": [
    {
     "data": {
      "text/html": [
       "<div>\n",
       "<style scoped>\n",
       "    .dataframe tbody tr th:only-of-type {\n",
       "        vertical-align: middle;\n",
       "    }\n",
       "\n",
       "    .dataframe tbody tr th {\n",
       "        vertical-align: top;\n",
       "    }\n",
       "\n",
       "    .dataframe thead th {\n",
       "        text-align: right;\n",
       "    }\n",
       "</style>\n",
       "<table border=\"1\" class=\"dataframe\">\n",
       "  <thead>\n",
       "    <tr style=\"text-align: right;\">\n",
       "      <th></th>\n",
       "      <th>data</th>\n",
       "      <th>Group_Name</th>\n",
       "      <th>Date</th>\n",
       "      <th>time</th>\n",
       "      <th>text</th>\n",
       "    </tr>\n",
       "  </thead>\n",
       "  <tbody>\n",
       "    <tr>\n",
       "      <th>0</th>\n",
       "      <td>18/07/19, 8:17 pm - Messages to this group are...</td>\n",
       "      <td>NaN</td>\n",
       "      <td>18/07/19</td>\n",
       "      <td>8:17 pm</td>\n",
       "      <td>- Messages to this group are now secured with ...</td>\n",
       "    </tr>\n",
       "    <tr>\n",
       "      <th>1</th>\n",
       "      <td>18/07/19, 8:17 pm - You created group \"🤔🤔🤔🤔🤔\"</td>\n",
       "      <td>\"🤔🤔🤔🤔🤔\"</td>\n",
       "      <td>18/07/19</td>\n",
       "      <td>8:17 pm</td>\n",
       "      <td>- You created group \"🤔🤔🤔🤔🤔\"</td>\n",
       "    </tr>\n",
       "    <tr>\n",
       "      <th>2</th>\n",
       "      <td>18/07/19, 8:21 pm - Sudarshan Great Lakes: Wha...</td>\n",
       "      <td>\"🤔🤔🤔🤔🤔\"</td>\n",
       "      <td>18/07/19</td>\n",
       "      <td>8:21 pm</td>\n",
       "      <td>- Sudarshan Great Lakes: What group man?</td>\n",
       "    </tr>\n",
       "    <tr>\n",
       "      <th>3</th>\n",
       "      <td>18/07/19, 8:22 pm - Ajay Great Lakes: Namma pa...</td>\n",
       "      <td>\"🤔🤔🤔🤔🤔\"</td>\n",
       "      <td>18/07/19</td>\n",
       "      <td>8:22 pm</td>\n",
       "      <td>- Ajay Great Lakes: Namma pasanga group</td>\n",
       "    </tr>\n",
       "    <tr>\n",
       "      <th>4</th>\n",
       "      <td>18/07/19, 8:23 pm - Sudarshan Great Lakes: Boo...</td>\n",
       "      <td>\"🤔🤔🤔🤔🤔\"</td>\n",
       "      <td>18/07/19</td>\n",
       "      <td>8:23 pm</td>\n",
       "      <td>- Sudarshan Great Lakes: Boologam irukara?😂</td>\n",
       "    </tr>\n",
       "  </tbody>\n",
       "</table>\n",
       "</div>"
      ],
      "text/plain": [
       "                                                data Group_Name      Date  \\\n",
       "0  18/07/19, 8:17 pm - Messages to this group are...        NaN  18/07/19   \n",
       "1      18/07/19, 8:17 pm - You created group \"🤔🤔🤔🤔🤔\"    \"🤔🤔🤔🤔🤔\"  18/07/19   \n",
       "2  18/07/19, 8:21 pm - Sudarshan Great Lakes: Wha...    \"🤔🤔🤔🤔🤔\"  18/07/19   \n",
       "3  18/07/19, 8:22 pm - Ajay Great Lakes: Namma pa...    \"🤔🤔🤔🤔🤔\"  18/07/19   \n",
       "4  18/07/19, 8:23 pm - Sudarshan Great Lakes: Boo...    \"🤔🤔🤔🤔🤔\"  18/07/19   \n",
       "\n",
       "      time                                               text  \n",
       "0  8:17 pm  - Messages to this group are now secured with ...  \n",
       "1  8:17 pm                        - You created group \"🤔🤔🤔🤔🤔\"  \n",
       "2  8:21 pm           - Sudarshan Great Lakes: What group man?  \n",
       "3  8:22 pm            - Ajay Great Lakes: Namma pasanga group  \n",
       "4  8:23 pm        - Sudarshan Great Lakes: Boologam irukara?😂  "
      ]
     },
     "execution_count": 238,
     "metadata": {},
     "output_type": "execute_result"
    }
   ],
   "source": [
    "df.head()"
   ]
  },
  {
   "cell_type": "markdown",
   "metadata": {},
   "source": [
    "#### Extracting name from the data column"
   ]
  },
  {
   "cell_type": "code",
   "execution_count": 239,
   "metadata": {},
   "outputs": [],
   "source": [
    "df[\"Name\"]=df[\"text\"].str.extract(\"(-\\s\\w*.*:)\",expand=True)"
   ]
  },
  {
   "cell_type": "markdown",
   "metadata": {},
   "source": [
    "#### Extracting chats from the data column"
   ]
  },
  {
   "cell_type": "code",
   "execution_count": 240,
   "metadata": {},
   "outputs": [],
   "source": [
    "df[\"Text\"]=df[\"text\"].str.extract(\"(:\\s\\w*.*)\",expand=True)"
   ]
  },
  {
   "cell_type": "code",
   "execution_count": 241,
   "metadata": {},
   "outputs": [
    {
     "data": {
      "text/html": [
       "<div>\n",
       "<style scoped>\n",
       "    .dataframe tbody tr th:only-of-type {\n",
       "        vertical-align: middle;\n",
       "    }\n",
       "\n",
       "    .dataframe tbody tr th {\n",
       "        vertical-align: top;\n",
       "    }\n",
       "\n",
       "    .dataframe thead th {\n",
       "        text-align: right;\n",
       "    }\n",
       "</style>\n",
       "<table border=\"1\" class=\"dataframe\">\n",
       "  <thead>\n",
       "    <tr style=\"text-align: right;\">\n",
       "      <th></th>\n",
       "      <th>data</th>\n",
       "      <th>Group_Name</th>\n",
       "      <th>Date</th>\n",
       "      <th>time</th>\n",
       "      <th>text</th>\n",
       "      <th>Name</th>\n",
       "      <th>Text</th>\n",
       "    </tr>\n",
       "  </thead>\n",
       "  <tbody>\n",
       "    <tr>\n",
       "      <th>0</th>\n",
       "      <td>18/07/19, 8:17 pm - Messages to this group are...</td>\n",
       "      <td>NaN</td>\n",
       "      <td>18/07/19</td>\n",
       "      <td>8:17 pm</td>\n",
       "      <td>- Messages to this group are now secured with ...</td>\n",
       "      <td>NaN</td>\n",
       "      <td>NaN</td>\n",
       "    </tr>\n",
       "    <tr>\n",
       "      <th>1</th>\n",
       "      <td>18/07/19, 8:17 pm - You created group \"🤔🤔🤔🤔🤔\"</td>\n",
       "      <td>\"🤔🤔🤔🤔🤔\"</td>\n",
       "      <td>18/07/19</td>\n",
       "      <td>8:17 pm</td>\n",
       "      <td>- You created group \"🤔🤔🤔🤔🤔\"</td>\n",
       "      <td>NaN</td>\n",
       "      <td>NaN</td>\n",
       "    </tr>\n",
       "    <tr>\n",
       "      <th>2</th>\n",
       "      <td>18/07/19, 8:21 pm - Sudarshan Great Lakes: Wha...</td>\n",
       "      <td>\"🤔🤔🤔🤔🤔\"</td>\n",
       "      <td>18/07/19</td>\n",
       "      <td>8:21 pm</td>\n",
       "      <td>- Sudarshan Great Lakes: What group man?</td>\n",
       "      <td>- Sudarshan Great Lakes:</td>\n",
       "      <td>: What group man?</td>\n",
       "    </tr>\n",
       "    <tr>\n",
       "      <th>3</th>\n",
       "      <td>18/07/19, 8:22 pm - Ajay Great Lakes: Namma pa...</td>\n",
       "      <td>\"🤔🤔🤔🤔🤔\"</td>\n",
       "      <td>18/07/19</td>\n",
       "      <td>8:22 pm</td>\n",
       "      <td>- Ajay Great Lakes: Namma pasanga group</td>\n",
       "      <td>- Ajay Great Lakes:</td>\n",
       "      <td>: Namma pasanga group</td>\n",
       "    </tr>\n",
       "  </tbody>\n",
       "</table>\n",
       "</div>"
      ],
      "text/plain": [
       "                                                data Group_Name      Date  \\\n",
       "0  18/07/19, 8:17 pm - Messages to this group are...        NaN  18/07/19   \n",
       "1      18/07/19, 8:17 pm - You created group \"🤔🤔🤔🤔🤔\"    \"🤔🤔🤔🤔🤔\"  18/07/19   \n",
       "2  18/07/19, 8:21 pm - Sudarshan Great Lakes: Wha...    \"🤔🤔🤔🤔🤔\"  18/07/19   \n",
       "3  18/07/19, 8:22 pm - Ajay Great Lakes: Namma pa...    \"🤔🤔🤔🤔🤔\"  18/07/19   \n",
       "\n",
       "      time                                               text  \\\n",
       "0  8:17 pm  - Messages to this group are now secured with ...   \n",
       "1  8:17 pm                        - You created group \"🤔🤔🤔🤔🤔\"   \n",
       "2  8:21 pm           - Sudarshan Great Lakes: What group man?   \n",
       "3  8:22 pm            - Ajay Great Lakes: Namma pasanga group   \n",
       "\n",
       "                       Name                   Text  \n",
       "0                       NaN                    NaN  \n",
       "1                       NaN                    NaN  \n",
       "2  - Sudarshan Great Lakes:      : What group man?  \n",
       "3       - Ajay Great Lakes:  : Namma pasanga group  "
      ]
     },
     "execution_count": 241,
     "metadata": {},
     "output_type": "execute_result"
    }
   ],
   "source": [
    "df.head(4)"
   ]
  },
  {
   "cell_type": "markdown",
   "metadata": {},
   "source": [
    "#### Removing First 2 rows as it dont add any value to our data"
   ]
  },
  {
   "cell_type": "code",
   "execution_count": 242,
   "metadata": {},
   "outputs": [],
   "source": [
    "df.drop(df.index[0:2],inplace=True)"
   ]
  },
  {
   "cell_type": "code",
   "execution_count": 243,
   "metadata": {},
   "outputs": [],
   "source": [
    "df.drop([\"data\",\"text\"],axis=1,inplace=True)"
   ]
  },
  {
   "cell_type": "markdown",
   "metadata": {},
   "source": [
    "#### Removing punctuations from respective columns"
   ]
  },
  {
   "cell_type": "code",
   "execution_count": 244,
   "metadata": {},
   "outputs": [],
   "source": [
    "df[\"Text\"]=df[\"Text\"].str.replace(\": \",\"\")"
   ]
  },
  {
   "cell_type": "code",
   "execution_count": 245,
   "metadata": {},
   "outputs": [],
   "source": [
    "df[\"Name\"]=df[\"Name\"].str.replace(\"- \",\"\")"
   ]
  },
  {
   "cell_type": "code",
   "execution_count": 246,
   "metadata": {},
   "outputs": [],
   "source": [
    "df[\"Name\"]=df[\"Name\"].str.replace(\":\",\"\")"
   ]
  },
  {
   "cell_type": "code",
   "execution_count": 247,
   "metadata": {},
   "outputs": [
    {
     "data": {
      "text/html": [
       "<div>\n",
       "<style scoped>\n",
       "    .dataframe tbody tr th:only-of-type {\n",
       "        vertical-align: middle;\n",
       "    }\n",
       "\n",
       "    .dataframe tbody tr th {\n",
       "        vertical-align: top;\n",
       "    }\n",
       "\n",
       "    .dataframe thead th {\n",
       "        text-align: right;\n",
       "    }\n",
       "</style>\n",
       "<table border=\"1\" class=\"dataframe\">\n",
       "  <thead>\n",
       "    <tr style=\"text-align: right;\">\n",
       "      <th></th>\n",
       "      <th>Group_Name</th>\n",
       "      <th>Date</th>\n",
       "      <th>time</th>\n",
       "      <th>Name</th>\n",
       "      <th>Text</th>\n",
       "    </tr>\n",
       "  </thead>\n",
       "  <tbody>\n",
       "    <tr>\n",
       "      <th>12215</th>\n",
       "      <td>\"Hpy bday Prashanth 🍾🍻\" to \"Vishwaah bhai 🦾\"</td>\n",
       "      <td>26/04/20</td>\n",
       "      <td>8:05 pm</td>\n",
       "      <td>Azhagu Great Lakes</td>\n",
       "      <td>Elathukum</td>\n",
       "    </tr>\n",
       "    <tr>\n",
       "      <th>12216</th>\n",
       "      <td>\"Hpy bday Prashanth 🍾🍻\" to \"Vishwaah bhai 🦾\"</td>\n",
       "      <td>26/04/20</td>\n",
       "      <td>8:09 pm</td>\n",
       "      <td>Viswa Great Lakes</td>\n",
       "      <td>Seri daa</td>\n",
       "    </tr>\n",
       "    <tr>\n",
       "      <th>12217</th>\n",
       "      <td>\"Hpy bday Prashanth 🍾🍻\" to \"Vishwaah bhai 🦾\"</td>\n",
       "      <td>26/04/20</td>\n",
       "      <td>8:56 pm</td>\n",
       "      <td>Ajay Great Lakes</td>\n",
       "      <td>Pahhh</td>\n",
       "    </tr>\n",
       "    <tr>\n",
       "      <th>12218</th>\n",
       "      <td>\"Hpy bday Prashanth 🍾🍻\" to \"Vishwaah bhai 🦾\"</td>\n",
       "      <td>26/04/20</td>\n",
       "      <td>8:56 pm</td>\n",
       "      <td>Ajay Great Lakes</td>\n",
       "      <td>Alagayyyy</td>\n",
       "    </tr>\n",
       "    <tr>\n",
       "      <th>12219</th>\n",
       "      <td>\"Hpy bday Prashanth 🍾🍻\" to \"Vishwaah bhai 🦾\"</td>\n",
       "      <td>NaN</td>\n",
       "      <td>NaN</td>\n",
       "      <td>NaN</td>\n",
       "      <td>NaN</td>\n",
       "    </tr>\n",
       "  </tbody>\n",
       "</table>\n",
       "</div>"
      ],
      "text/plain": [
       "                                         Group_Name      Date     time  \\\n",
       "12215  \"Hpy bday Prashanth 🍾🍻\" to \"Vishwaah bhai 🦾\"  26/04/20  8:05 pm   \n",
       "12216  \"Hpy bday Prashanth 🍾🍻\" to \"Vishwaah bhai 🦾\"  26/04/20  8:09 pm   \n",
       "12217  \"Hpy bday Prashanth 🍾🍻\" to \"Vishwaah bhai 🦾\"  26/04/20  8:56 pm   \n",
       "12218  \"Hpy bday Prashanth 🍾🍻\" to \"Vishwaah bhai 🦾\"  26/04/20  8:56 pm   \n",
       "12219  \"Hpy bday Prashanth 🍾🍻\" to \"Vishwaah bhai 🦾\"       NaN      NaN   \n",
       "\n",
       "                     Name       Text  \n",
       "12215  Azhagu Great Lakes  Elathukum  \n",
       "12216   Viswa Great Lakes   Seri daa  \n",
       "12217    Ajay Great Lakes      Pahhh  \n",
       "12218    Ajay Great Lakes  Alagayyyy  \n",
       "12219                 NaN        NaN  "
      ]
     },
     "execution_count": 247,
     "metadata": {},
     "output_type": "execute_result"
    }
   ],
   "source": [
    "df.tail()"
   ]
  },
  {
   "cell_type": "code",
   "execution_count": 248,
   "metadata": {},
   "outputs": [
    {
     "data": {
      "text/plain": [
       "(12218, 5)"
      ]
     },
     "execution_count": 248,
     "metadata": {},
     "output_type": "execute_result"
    }
   ],
   "source": [
    "df.shape"
   ]
  },
  {
   "cell_type": "code",
   "execution_count": 249,
   "metadata": {},
   "outputs": [
    {
     "data": {
      "text/plain": [
       "42"
      ]
     },
     "execution_count": 249,
     "metadata": {},
     "output_type": "execute_result"
    }
   ],
   "source": [
    "df[\"Name\"].value_counts().count()"
   ]
  },
  {
   "cell_type": "markdown",
   "metadata": {},
   "source": [
    "#### There are 42 different values i just specified only group member names"
   ]
  },
  {
   "cell_type": "code",
   "execution_count": 250,
   "metadata": {},
   "outputs": [],
   "source": [
    "df[\"Name\"]=df[\"Name\"][(df[\"Name\"]==\"Azhagu Great Lakes\")|(df[\"Name\"]==\"Ajay Great Lakes\")|(df[\"Name\"]==\"srivatsansabarish😍\")|(df[\"Name\"]==\"Sudarshan Great Lakes\")|(df[\"Name\"]==\"Viswa Great Lakes\")|(df[\"Name\"]==\"Lakshmi Great Lakes\")|(df[\"Name\"]==\"Sangeeth Great Lakes\")|(df[\"Name\"]==\"Ajith Great Lakes\")]"
   ]
  },
  {
   "cell_type": "code",
   "execution_count": 251,
   "metadata": {},
   "outputs": [
    {
     "data": {
      "text/plain": [
       "(12218, 5)"
      ]
     },
     "execution_count": 251,
     "metadata": {},
     "output_type": "execute_result"
    }
   ],
   "source": [
    "df.shape"
   ]
  },
  {
   "cell_type": "code",
   "execution_count": 252,
   "metadata": {},
   "outputs": [
    {
     "data": {
      "text/plain": [
       "srivatsansabarish😍       2395\n",
       "Sudarshan Great Lakes    2276\n",
       "Ajay Great Lakes         2235\n",
       "Azhagu Great Lakes       1860\n",
       "Sangeeth Great Lakes     1210\n",
       "Ajith Great Lakes        1071\n",
       "Viswa Great Lakes         843\n",
       "Lakshmi Great Lakes        68\n",
       "Name: Name, dtype: int64"
      ]
     },
     "execution_count": 252,
     "metadata": {},
     "output_type": "execute_result"
    }
   ],
   "source": [
    "df[\"Name\"].value_counts()"
   ]
  },
  {
   "cell_type": "code",
   "execution_count": 253,
   "metadata": {},
   "outputs": [
    {
     "data": {
      "text/plain": [
       "260"
      ]
     },
     "execution_count": 253,
     "metadata": {},
     "output_type": "execute_result"
    }
   ],
   "source": [
    "df[\"Name\"].isna().sum()"
   ]
  },
  {
   "cell_type": "code",
   "execution_count": 254,
   "metadata": {},
   "outputs": [
    {
     "data": {
      "text/plain": [
       "(12218, 5)"
      ]
     },
     "execution_count": 254,
     "metadata": {},
     "output_type": "execute_result"
    }
   ],
   "source": [
    "df.shape"
   ]
  },
  {
   "cell_type": "markdown",
   "metadata": {},
   "source": [
    "#### Removing null values from the name column"
   ]
  },
  {
   "cell_type": "code",
   "execution_count": 255,
   "metadata": {},
   "outputs": [],
   "source": [
    "df = df[df['Name'].notna()]"
   ]
  },
  {
   "cell_type": "code",
   "execution_count": 256,
   "metadata": {},
   "outputs": [
    {
     "data": {
      "text/plain": [
       "(11958, 5)"
      ]
     },
     "execution_count": 256,
     "metadata": {},
     "output_type": "execute_result"
    }
   ],
   "source": [
    "df.shape"
   ]
  },
  {
   "cell_type": "code",
   "execution_count": 257,
   "metadata": {},
   "outputs": [
    {
     "name": "stdout",
     "output_type": "stream",
     "text": [
      "<class 'pandas.core.frame.DataFrame'>\n",
      "Int64Index: 11958 entries, 2 to 12218\n",
      "Data columns (total 5 columns):\n",
      " #   Column      Non-Null Count  Dtype \n",
      "---  ------      --------------  ----- \n",
      " 0   Group_Name  11958 non-null  object\n",
      " 1   Date        11958 non-null  object\n",
      " 2   time        11958 non-null  object\n",
      " 3   Name        11958 non-null  object\n",
      " 4   Text        11958 non-null  object\n",
      "dtypes: object(5)\n",
      "memory usage: 560.5+ KB\n"
     ]
    }
   ],
   "source": [
    "df.info()"
   ]
  },
  {
   "cell_type": "markdown",
   "metadata": {},
   "source": [
    "#### Converting Date column into date time format"
   ]
  },
  {
   "cell_type": "code",
   "execution_count": 258,
   "metadata": {},
   "outputs": [],
   "source": [
    "df['Date'] = pd.to_datetime(df['Date'], format='%d/%m/%y') "
   ]
  },
  {
   "cell_type": "code",
   "execution_count": 259,
   "metadata": {},
   "outputs": [
    {
     "name": "stdout",
     "output_type": "stream",
     "text": [
      "<class 'pandas.core.frame.DataFrame'>\n",
      "Int64Index: 11958 entries, 2 to 12218\n",
      "Data columns (total 5 columns):\n",
      " #   Column      Non-Null Count  Dtype         \n",
      "---  ------      --------------  -----         \n",
      " 0   Group_Name  11958 non-null  object        \n",
      " 1   Date        11958 non-null  datetime64[ns]\n",
      " 2   time        11958 non-null  object        \n",
      " 3   Name        11958 non-null  object        \n",
      " 4   Text        11958 non-null  object        \n",
      "dtypes: datetime64[ns](1), object(4)\n",
      "memory usage: 560.5+ KB\n"
     ]
    }
   ],
   "source": [
    "df.info()"
   ]
  },
  {
   "cell_type": "markdown",
   "metadata": {},
   "source": [
    "#### Converting Time column into 24 hours time format"
   ]
  },
  {
   "cell_type": "code",
   "execution_count": 260,
   "metadata": {},
   "outputs": [],
   "source": [
    "df[\"Time\"] = pd.to_datetime(df['time']).dt.strftime('%H:%M')"
   ]
  },
  {
   "cell_type": "code",
   "execution_count": 261,
   "metadata": {},
   "outputs": [
    {
     "name": "stdout",
     "output_type": "stream",
     "text": [
      "<class 'pandas.core.frame.DataFrame'>\n",
      "Int64Index: 11958 entries, 2 to 12218\n",
      "Data columns (total 6 columns):\n",
      " #   Column      Non-Null Count  Dtype         \n",
      "---  ------      --------------  -----         \n",
      " 0   Group_Name  11958 non-null  object        \n",
      " 1   Date        11958 non-null  datetime64[ns]\n",
      " 2   time        11958 non-null  object        \n",
      " 3   Name        11958 non-null  object        \n",
      " 4   Text        11958 non-null  object        \n",
      " 5   Time        11958 non-null  object        \n",
      "dtypes: datetime64[ns](1), object(5)\n",
      "memory usage: 654.0+ KB\n"
     ]
    }
   ],
   "source": [
    "df.info()"
   ]
  },
  {
   "cell_type": "code",
   "execution_count": 262,
   "metadata": {},
   "outputs": [
    {
     "data": {
      "text/html": [
       "<div>\n",
       "<style scoped>\n",
       "    .dataframe tbody tr th:only-of-type {\n",
       "        vertical-align: middle;\n",
       "    }\n",
       "\n",
       "    .dataframe tbody tr th {\n",
       "        vertical-align: top;\n",
       "    }\n",
       "\n",
       "    .dataframe thead th {\n",
       "        text-align: right;\n",
       "    }\n",
       "</style>\n",
       "<table border=\"1\" class=\"dataframe\">\n",
       "  <thead>\n",
       "    <tr style=\"text-align: right;\">\n",
       "      <th></th>\n",
       "      <th>Group_Name</th>\n",
       "      <th>Date</th>\n",
       "      <th>time</th>\n",
       "      <th>Name</th>\n",
       "      <th>Text</th>\n",
       "      <th>Time</th>\n",
       "    </tr>\n",
       "  </thead>\n",
       "  <tbody>\n",
       "    <tr>\n",
       "      <th>12214</th>\n",
       "      <td>\"Hpy bday Prashanth 🍾🍻\" to \"Vishwaah bhai 🦾\"</td>\n",
       "      <td>2020-04-26</td>\n",
       "      <td>8:05 pm</td>\n",
       "      <td>Azhagu Great Lakes</td>\n",
       "      <td>Elathukun</td>\n",
       "      <td>20:05</td>\n",
       "    </tr>\n",
       "    <tr>\n",
       "      <th>12215</th>\n",
       "      <td>\"Hpy bday Prashanth 🍾🍻\" to \"Vishwaah bhai 🦾\"</td>\n",
       "      <td>2020-04-26</td>\n",
       "      <td>8:05 pm</td>\n",
       "      <td>Azhagu Great Lakes</td>\n",
       "      <td>Elathukum</td>\n",
       "      <td>20:05</td>\n",
       "    </tr>\n",
       "    <tr>\n",
       "      <th>12216</th>\n",
       "      <td>\"Hpy bday Prashanth 🍾🍻\" to \"Vishwaah bhai 🦾\"</td>\n",
       "      <td>2020-04-26</td>\n",
       "      <td>8:09 pm</td>\n",
       "      <td>Viswa Great Lakes</td>\n",
       "      <td>Seri daa</td>\n",
       "      <td>20:09</td>\n",
       "    </tr>\n",
       "    <tr>\n",
       "      <th>12217</th>\n",
       "      <td>\"Hpy bday Prashanth 🍾🍻\" to \"Vishwaah bhai 🦾\"</td>\n",
       "      <td>2020-04-26</td>\n",
       "      <td>8:56 pm</td>\n",
       "      <td>Ajay Great Lakes</td>\n",
       "      <td>Pahhh</td>\n",
       "      <td>20:56</td>\n",
       "    </tr>\n",
       "    <tr>\n",
       "      <th>12218</th>\n",
       "      <td>\"Hpy bday Prashanth 🍾🍻\" to \"Vishwaah bhai 🦾\"</td>\n",
       "      <td>2020-04-26</td>\n",
       "      <td>8:56 pm</td>\n",
       "      <td>Ajay Great Lakes</td>\n",
       "      <td>Alagayyyy</td>\n",
       "      <td>20:56</td>\n",
       "    </tr>\n",
       "  </tbody>\n",
       "</table>\n",
       "</div>"
      ],
      "text/plain": [
       "                                         Group_Name       Date     time  \\\n",
       "12214  \"Hpy bday Prashanth 🍾🍻\" to \"Vishwaah bhai 🦾\" 2020-04-26  8:05 pm   \n",
       "12215  \"Hpy bday Prashanth 🍾🍻\" to \"Vishwaah bhai 🦾\" 2020-04-26  8:05 pm   \n",
       "12216  \"Hpy bday Prashanth 🍾🍻\" to \"Vishwaah bhai 🦾\" 2020-04-26  8:09 pm   \n",
       "12217  \"Hpy bday Prashanth 🍾🍻\" to \"Vishwaah bhai 🦾\" 2020-04-26  8:56 pm   \n",
       "12218  \"Hpy bday Prashanth 🍾🍻\" to \"Vishwaah bhai 🦾\" 2020-04-26  8:56 pm   \n",
       "\n",
       "                     Name       Text   Time  \n",
       "12214  Azhagu Great Lakes  Elathukun  20:05  \n",
       "12215  Azhagu Great Lakes  Elathukum  20:05  \n",
       "12216   Viswa Great Lakes   Seri daa  20:09  \n",
       "12217    Ajay Great Lakes      Pahhh  20:56  \n",
       "12218    Ajay Great Lakes  Alagayyyy  20:56  "
      ]
     },
     "execution_count": 262,
     "metadata": {},
     "output_type": "execute_result"
    }
   ],
   "source": [
    "df.tail()"
   ]
  },
  {
   "cell_type": "code",
   "execution_count": 263,
   "metadata": {},
   "outputs": [],
   "source": [
    "df.drop(\"time\",axis=1,inplace=True)"
   ]
  },
  {
   "cell_type": "code",
   "execution_count": 264,
   "metadata": {},
   "outputs": [],
   "source": [
    "df[\"Word_count\"]=df[\"Text\"].apply(lambda x:len(x))"
   ]
  },
  {
   "cell_type": "code",
   "execution_count": 265,
   "metadata": {},
   "outputs": [
    {
     "data": {
      "text/html": [
       "<div>\n",
       "<style scoped>\n",
       "    .dataframe tbody tr th:only-of-type {\n",
       "        vertical-align: middle;\n",
       "    }\n",
       "\n",
       "    .dataframe tbody tr th {\n",
       "        vertical-align: top;\n",
       "    }\n",
       "\n",
       "    .dataframe thead th {\n",
       "        text-align: right;\n",
       "    }\n",
       "</style>\n",
       "<table border=\"1\" class=\"dataframe\">\n",
       "  <thead>\n",
       "    <tr style=\"text-align: right;\">\n",
       "      <th></th>\n",
       "      <th>Group_Name</th>\n",
       "      <th>Date</th>\n",
       "      <th>Name</th>\n",
       "      <th>Text</th>\n",
       "      <th>Time</th>\n",
       "      <th>Word_count</th>\n",
       "    </tr>\n",
       "  </thead>\n",
       "  <tbody>\n",
       "    <tr>\n",
       "      <th>12214</th>\n",
       "      <td>\"Hpy bday Prashanth 🍾🍻\" to \"Vishwaah bhai 🦾\"</td>\n",
       "      <td>2020-04-26</td>\n",
       "      <td>Azhagu Great Lakes</td>\n",
       "      <td>Elathukun</td>\n",
       "      <td>20:05</td>\n",
       "      <td>9</td>\n",
       "    </tr>\n",
       "    <tr>\n",
       "      <th>12215</th>\n",
       "      <td>\"Hpy bday Prashanth 🍾🍻\" to \"Vishwaah bhai 🦾\"</td>\n",
       "      <td>2020-04-26</td>\n",
       "      <td>Azhagu Great Lakes</td>\n",
       "      <td>Elathukum</td>\n",
       "      <td>20:05</td>\n",
       "      <td>9</td>\n",
       "    </tr>\n",
       "    <tr>\n",
       "      <th>12216</th>\n",
       "      <td>\"Hpy bday Prashanth 🍾🍻\" to \"Vishwaah bhai 🦾\"</td>\n",
       "      <td>2020-04-26</td>\n",
       "      <td>Viswa Great Lakes</td>\n",
       "      <td>Seri daa</td>\n",
       "      <td>20:09</td>\n",
       "      <td>8</td>\n",
       "    </tr>\n",
       "    <tr>\n",
       "      <th>12217</th>\n",
       "      <td>\"Hpy bday Prashanth 🍾🍻\" to \"Vishwaah bhai 🦾\"</td>\n",
       "      <td>2020-04-26</td>\n",
       "      <td>Ajay Great Lakes</td>\n",
       "      <td>Pahhh</td>\n",
       "      <td>20:56</td>\n",
       "      <td>5</td>\n",
       "    </tr>\n",
       "    <tr>\n",
       "      <th>12218</th>\n",
       "      <td>\"Hpy bday Prashanth 🍾🍻\" to \"Vishwaah bhai 🦾\"</td>\n",
       "      <td>2020-04-26</td>\n",
       "      <td>Ajay Great Lakes</td>\n",
       "      <td>Alagayyyy</td>\n",
       "      <td>20:56</td>\n",
       "      <td>9</td>\n",
       "    </tr>\n",
       "  </tbody>\n",
       "</table>\n",
       "</div>"
      ],
      "text/plain": [
       "                                         Group_Name       Date  \\\n",
       "12214  \"Hpy bday Prashanth 🍾🍻\" to \"Vishwaah bhai 🦾\" 2020-04-26   \n",
       "12215  \"Hpy bday Prashanth 🍾🍻\" to \"Vishwaah bhai 🦾\" 2020-04-26   \n",
       "12216  \"Hpy bday Prashanth 🍾🍻\" to \"Vishwaah bhai 🦾\" 2020-04-26   \n",
       "12217  \"Hpy bday Prashanth 🍾🍻\" to \"Vishwaah bhai 🦾\" 2020-04-26   \n",
       "12218  \"Hpy bday Prashanth 🍾🍻\" to \"Vishwaah bhai 🦾\" 2020-04-26   \n",
       "\n",
       "                     Name       Text   Time  Word_count  \n",
       "12214  Azhagu Great Lakes  Elathukun  20:05           9  \n",
       "12215  Azhagu Great Lakes  Elathukum  20:05           9  \n",
       "12216   Viswa Great Lakes   Seri daa  20:09           8  \n",
       "12217    Ajay Great Lakes      Pahhh  20:56           5  \n",
       "12218    Ajay Great Lakes  Alagayyyy  20:56           9  "
      ]
     },
     "execution_count": 265,
     "metadata": {},
     "output_type": "execute_result"
    }
   ],
   "source": [
    "df.tail()"
   ]
  },
  {
   "cell_type": "markdown",
   "metadata": {},
   "source": [
    "## Check if there is any emoticons in chat"
   ]
  },
  {
   "cell_type": "code",
   "execution_count": 266,
   "metadata": {},
   "outputs": [],
   "source": [
    "#!pip install emoji"
   ]
  },
  {
   "cell_type": "code",
   "execution_count": 267,
   "metadata": {},
   "outputs": [],
   "source": [
    "import emoji"
   ]
  },
  {
   "cell_type": "code",
   "execution_count": 268,
   "metadata": {},
   "outputs": [
    {
     "data": {
      "text/plain": [
       "True"
      ]
     },
     "execution_count": 268,
     "metadata": {},
     "output_type": "execute_result"
    }
   ],
   "source": [
    "\"😃\" in emoji.UNICODE_EMOJI"
   ]
  },
  {
   "cell_type": "code",
   "execution_count": 269,
   "metadata": {},
   "outputs": [],
   "source": [
    "df[\"Emoticons\"]=df[\"Text\"].apply(lambda x:len(re.findall(r'[\\U0001f600-\\U0001f650]', x)))"
   ]
  },
  {
   "cell_type": "code",
   "execution_count": 270,
   "metadata": {},
   "outputs": [
    {
     "data": {
      "text/html": [
       "<div>\n",
       "<style scoped>\n",
       "    .dataframe tbody tr th:only-of-type {\n",
       "        vertical-align: middle;\n",
       "    }\n",
       "\n",
       "    .dataframe tbody tr th {\n",
       "        vertical-align: top;\n",
       "    }\n",
       "\n",
       "    .dataframe thead th {\n",
       "        text-align: right;\n",
       "    }\n",
       "</style>\n",
       "<table border=\"1\" class=\"dataframe\">\n",
       "  <thead>\n",
       "    <tr style=\"text-align: right;\">\n",
       "      <th></th>\n",
       "      <th>Group_Name</th>\n",
       "      <th>Date</th>\n",
       "      <th>Name</th>\n",
       "      <th>Text</th>\n",
       "      <th>Time</th>\n",
       "      <th>Word_count</th>\n",
       "      <th>Emoticons</th>\n",
       "    </tr>\n",
       "  </thead>\n",
       "  <tbody>\n",
       "    <tr>\n",
       "      <th>12214</th>\n",
       "      <td>\"Hpy bday Prashanth 🍾🍻\" to \"Vishwaah bhai 🦾\"</td>\n",
       "      <td>2020-04-26</td>\n",
       "      <td>Azhagu Great Lakes</td>\n",
       "      <td>Elathukun</td>\n",
       "      <td>20:05</td>\n",
       "      <td>9</td>\n",
       "      <td>0</td>\n",
       "    </tr>\n",
       "    <tr>\n",
       "      <th>12215</th>\n",
       "      <td>\"Hpy bday Prashanth 🍾🍻\" to \"Vishwaah bhai 🦾\"</td>\n",
       "      <td>2020-04-26</td>\n",
       "      <td>Azhagu Great Lakes</td>\n",
       "      <td>Elathukum</td>\n",
       "      <td>20:05</td>\n",
       "      <td>9</td>\n",
       "      <td>0</td>\n",
       "    </tr>\n",
       "    <tr>\n",
       "      <th>12216</th>\n",
       "      <td>\"Hpy bday Prashanth 🍾🍻\" to \"Vishwaah bhai 🦾\"</td>\n",
       "      <td>2020-04-26</td>\n",
       "      <td>Viswa Great Lakes</td>\n",
       "      <td>Seri daa</td>\n",
       "      <td>20:09</td>\n",
       "      <td>8</td>\n",
       "      <td>0</td>\n",
       "    </tr>\n",
       "    <tr>\n",
       "      <th>12217</th>\n",
       "      <td>\"Hpy bday Prashanth 🍾🍻\" to \"Vishwaah bhai 🦾\"</td>\n",
       "      <td>2020-04-26</td>\n",
       "      <td>Ajay Great Lakes</td>\n",
       "      <td>Pahhh</td>\n",
       "      <td>20:56</td>\n",
       "      <td>5</td>\n",
       "      <td>0</td>\n",
       "    </tr>\n",
       "    <tr>\n",
       "      <th>12218</th>\n",
       "      <td>\"Hpy bday Prashanth 🍾🍻\" to \"Vishwaah bhai 🦾\"</td>\n",
       "      <td>2020-04-26</td>\n",
       "      <td>Ajay Great Lakes</td>\n",
       "      <td>Alagayyyy</td>\n",
       "      <td>20:56</td>\n",
       "      <td>9</td>\n",
       "      <td>0</td>\n",
       "    </tr>\n",
       "  </tbody>\n",
       "</table>\n",
       "</div>"
      ],
      "text/plain": [
       "                                         Group_Name       Date  \\\n",
       "12214  \"Hpy bday Prashanth 🍾🍻\" to \"Vishwaah bhai 🦾\" 2020-04-26   \n",
       "12215  \"Hpy bday Prashanth 🍾🍻\" to \"Vishwaah bhai 🦾\" 2020-04-26   \n",
       "12216  \"Hpy bday Prashanth 🍾🍻\" to \"Vishwaah bhai 🦾\" 2020-04-26   \n",
       "12217  \"Hpy bday Prashanth 🍾🍻\" to \"Vishwaah bhai 🦾\" 2020-04-26   \n",
       "12218  \"Hpy bday Prashanth 🍾🍻\" to \"Vishwaah bhai 🦾\" 2020-04-26   \n",
       "\n",
       "                     Name       Text   Time  Word_count  Emoticons  \n",
       "12214  Azhagu Great Lakes  Elathukun  20:05           9          0  \n",
       "12215  Azhagu Great Lakes  Elathukum  20:05           9          0  \n",
       "12216   Viswa Great Lakes   Seri daa  20:09           8          0  \n",
       "12217    Ajay Great Lakes      Pahhh  20:56           5          0  \n",
       "12218    Ajay Great Lakes  Alagayyyy  20:56           9          0  "
      ]
     },
     "execution_count": 270,
     "metadata": {},
     "output_type": "execute_result"
    }
   ],
   "source": [
    "df.tail()"
   ]
  },
  {
   "cell_type": "markdown",
   "metadata": {},
   "source": [
    "### Check for any media present "
   ]
  },
  {
   "cell_type": "code",
   "execution_count": 271,
   "metadata": {},
   "outputs": [],
   "source": [
    "df['Media']=df['Text'].str.contains('<Media omitted>')"
   ]
  },
  {
   "cell_type": "code",
   "execution_count": 272,
   "metadata": {},
   "outputs": [
    {
     "data": {
      "text/plain": [
       "False    11149\n",
       "True       809\n",
       "Name: Media, dtype: int64"
      ]
     },
     "execution_count": 272,
     "metadata": {},
     "output_type": "execute_result"
    }
   ],
   "source": [
    "df[\"Media\"].value_counts()"
   ]
  },
  {
   "cell_type": "code",
   "execution_count": 273,
   "metadata": {},
   "outputs": [
    {
     "data": {
      "text/html": [
       "<div>\n",
       "<style scoped>\n",
       "    .dataframe tbody tr th:only-of-type {\n",
       "        vertical-align: middle;\n",
       "    }\n",
       "\n",
       "    .dataframe tbody tr th {\n",
       "        vertical-align: top;\n",
       "    }\n",
       "\n",
       "    .dataframe thead th {\n",
       "        text-align: right;\n",
       "    }\n",
       "</style>\n",
       "<table border=\"1\" class=\"dataframe\">\n",
       "  <thead>\n",
       "    <tr style=\"text-align: right;\">\n",
       "      <th></th>\n",
       "      <th>Group_Name</th>\n",
       "      <th>Date</th>\n",
       "      <th>Name</th>\n",
       "      <th>Text</th>\n",
       "      <th>Time</th>\n",
       "      <th>Word_count</th>\n",
       "      <th>Emoticons</th>\n",
       "      <th>Media</th>\n",
       "    </tr>\n",
       "  </thead>\n",
       "  <tbody>\n",
       "    <tr>\n",
       "      <th>12214</th>\n",
       "      <td>\"Hpy bday Prashanth 🍾🍻\" to \"Vishwaah bhai 🦾\"</td>\n",
       "      <td>2020-04-26</td>\n",
       "      <td>Azhagu Great Lakes</td>\n",
       "      <td>Elathukun</td>\n",
       "      <td>20:05</td>\n",
       "      <td>9</td>\n",
       "      <td>0</td>\n",
       "      <td>False</td>\n",
       "    </tr>\n",
       "    <tr>\n",
       "      <th>12215</th>\n",
       "      <td>\"Hpy bday Prashanth 🍾🍻\" to \"Vishwaah bhai 🦾\"</td>\n",
       "      <td>2020-04-26</td>\n",
       "      <td>Azhagu Great Lakes</td>\n",
       "      <td>Elathukum</td>\n",
       "      <td>20:05</td>\n",
       "      <td>9</td>\n",
       "      <td>0</td>\n",
       "      <td>False</td>\n",
       "    </tr>\n",
       "    <tr>\n",
       "      <th>12216</th>\n",
       "      <td>\"Hpy bday Prashanth 🍾🍻\" to \"Vishwaah bhai 🦾\"</td>\n",
       "      <td>2020-04-26</td>\n",
       "      <td>Viswa Great Lakes</td>\n",
       "      <td>Seri daa</td>\n",
       "      <td>20:09</td>\n",
       "      <td>8</td>\n",
       "      <td>0</td>\n",
       "      <td>False</td>\n",
       "    </tr>\n",
       "    <tr>\n",
       "      <th>12217</th>\n",
       "      <td>\"Hpy bday Prashanth 🍾🍻\" to \"Vishwaah bhai 🦾\"</td>\n",
       "      <td>2020-04-26</td>\n",
       "      <td>Ajay Great Lakes</td>\n",
       "      <td>Pahhh</td>\n",
       "      <td>20:56</td>\n",
       "      <td>5</td>\n",
       "      <td>0</td>\n",
       "      <td>False</td>\n",
       "    </tr>\n",
       "    <tr>\n",
       "      <th>12218</th>\n",
       "      <td>\"Hpy bday Prashanth 🍾🍻\" to \"Vishwaah bhai 🦾\"</td>\n",
       "      <td>2020-04-26</td>\n",
       "      <td>Ajay Great Lakes</td>\n",
       "      <td>Alagayyyy</td>\n",
       "      <td>20:56</td>\n",
       "      <td>9</td>\n",
       "      <td>0</td>\n",
       "      <td>False</td>\n",
       "    </tr>\n",
       "  </tbody>\n",
       "</table>\n",
       "</div>"
      ],
      "text/plain": [
       "                                         Group_Name       Date  \\\n",
       "12214  \"Hpy bday Prashanth 🍾🍻\" to \"Vishwaah bhai 🦾\" 2020-04-26   \n",
       "12215  \"Hpy bday Prashanth 🍾🍻\" to \"Vishwaah bhai 🦾\" 2020-04-26   \n",
       "12216  \"Hpy bday Prashanth 🍾🍻\" to \"Vishwaah bhai 🦾\" 2020-04-26   \n",
       "12217  \"Hpy bday Prashanth 🍾🍻\" to \"Vishwaah bhai 🦾\" 2020-04-26   \n",
       "12218  \"Hpy bday Prashanth 🍾🍻\" to \"Vishwaah bhai 🦾\" 2020-04-26   \n",
       "\n",
       "                     Name       Text   Time  Word_count  Emoticons  Media  \n",
       "12214  Azhagu Great Lakes  Elathukun  20:05           9          0  False  \n",
       "12215  Azhagu Great Lakes  Elathukum  20:05           9          0  False  \n",
       "12216   Viswa Great Lakes   Seri daa  20:09           8          0  False  \n",
       "12217    Ajay Great Lakes      Pahhh  20:56           5          0  False  \n",
       "12218    Ajay Great Lakes  Alagayyyy  20:56           9          0  False  "
      ]
     },
     "execution_count": 273,
     "metadata": {},
     "output_type": "execute_result"
    }
   ],
   "source": [
    "df.tail()"
   ]
  },
  {
   "cell_type": "code",
   "execution_count": 274,
   "metadata": {},
   "outputs": [
    {
     "data": {
      "text/plain": [
       "(11958, 8)"
      ]
     },
     "execution_count": 274,
     "metadata": {},
     "output_type": "execute_result"
    }
   ],
   "source": [
    "df.shape"
   ]
  },
  {
   "cell_type": "markdown",
   "metadata": {},
   "source": [
    "### Number of emoticons sent by each person"
   ]
  },
  {
   "cell_type": "code",
   "execution_count": 275,
   "metadata": {},
   "outputs": [],
   "source": [
    "import seaborn as sns"
   ]
  },
  {
   "cell_type": "code",
   "execution_count": 276,
   "metadata": {},
   "outputs": [],
   "source": [
    "emoji=df.groupby([\"Name\"])[\"Emoticons\"].sum().sort_values()"
   ]
  },
  {
   "cell_type": "code",
   "execution_count": 277,
   "metadata": {},
   "outputs": [],
   "source": [
    "emoji=emoji.reset_index(drop=False)"
   ]
  },
  {
   "cell_type": "code",
   "execution_count": 278,
   "metadata": {},
   "outputs": [
    {
     "data": {
      "text/html": [
       "<div>\n",
       "<style scoped>\n",
       "    .dataframe tbody tr th:only-of-type {\n",
       "        vertical-align: middle;\n",
       "    }\n",
       "\n",
       "    .dataframe tbody tr th {\n",
       "        vertical-align: top;\n",
       "    }\n",
       "\n",
       "    .dataframe thead th {\n",
       "        text-align: right;\n",
       "    }\n",
       "</style>\n",
       "<table border=\"1\" class=\"dataframe\">\n",
       "  <thead>\n",
       "    <tr style=\"text-align: right;\">\n",
       "      <th></th>\n",
       "      <th>index</th>\n",
       "      <th>Name</th>\n",
       "      <th>Emoticons</th>\n",
       "    </tr>\n",
       "  </thead>\n",
       "  <tbody>\n",
       "    <tr>\n",
       "      <th>0</th>\n",
       "      <td>0</td>\n",
       "      <td>Viswa Great Lakes</td>\n",
       "      <td>69</td>\n",
       "    </tr>\n",
       "    <tr>\n",
       "      <th>1</th>\n",
       "      <td>1</td>\n",
       "      <td>Lakshmi Great Lakes</td>\n",
       "      <td>109</td>\n",
       "    </tr>\n",
       "    <tr>\n",
       "      <th>2</th>\n",
       "      <td>2</td>\n",
       "      <td>Sangeeth Great Lakes</td>\n",
       "      <td>207</td>\n",
       "    </tr>\n",
       "    <tr>\n",
       "      <th>3</th>\n",
       "      <td>3</td>\n",
       "      <td>Ajith Great Lakes</td>\n",
       "      <td>391</td>\n",
       "    </tr>\n",
       "    <tr>\n",
       "      <th>4</th>\n",
       "      <td>4</td>\n",
       "      <td>Azhagu Great Lakes</td>\n",
       "      <td>727</td>\n",
       "    </tr>\n",
       "    <tr>\n",
       "      <th>5</th>\n",
       "      <td>5</td>\n",
       "      <td>srivatsansabarish😍</td>\n",
       "      <td>747</td>\n",
       "    </tr>\n",
       "    <tr>\n",
       "      <th>6</th>\n",
       "      <td>6</td>\n",
       "      <td>Sudarshan Great Lakes</td>\n",
       "      <td>772</td>\n",
       "    </tr>\n",
       "    <tr>\n",
       "      <th>7</th>\n",
       "      <td>7</td>\n",
       "      <td>Ajay Great Lakes</td>\n",
       "      <td>2328</td>\n",
       "    </tr>\n",
       "  </tbody>\n",
       "</table>\n",
       "</div>"
      ],
      "text/plain": [
       "   index                   Name  Emoticons\n",
       "0      0      Viswa Great Lakes         69\n",
       "1      1    Lakshmi Great Lakes        109\n",
       "2      2   Sangeeth Great Lakes        207\n",
       "3      3      Ajith Great Lakes        391\n",
       "4      4     Azhagu Great Lakes        727\n",
       "5      5     srivatsansabarish😍        747\n",
       "6      6  Sudarshan Great Lakes        772\n",
       "7      7       Ajay Great Lakes       2328"
      ]
     },
     "execution_count": 278,
     "metadata": {},
     "output_type": "execute_result"
    }
   ],
   "source": [
    "emoji.reset_index(drop=False)"
   ]
  },
  {
   "cell_type": "code",
   "execution_count": 279,
   "metadata": {},
   "outputs": [
    {
     "data": {
      "text/plain": [
       "(array([0, 1, 2, 3, 4, 5, 6, 7]), <a list of 8 Text xticklabel objects>)"
      ]
     },
     "execution_count": 279,
     "metadata": {},
     "output_type": "execute_result"
    },
    {
     "data": {
      "image/png": "[encoded data removed]",
      "text/plain": [
       "<Figure size 432x288 with 1 Axes>"
      ]
     },
     "metadata": {
      "needs_background": "light"
     },
     "output_type": "display_data"
    }
   ],
   "source": [
    "sns.barplot(x='Name', y='Emoticons', data=emoji,palette=\"RdPu\").set_title('Number of emoticons sent by each person')\n",
    "plt.xticks(rotation=75)"
   ]
  },
  {
   "cell_type": "markdown",
   "metadata": {},
   "source": [
    "### Total chat count from each user"
   ]
  },
  {
   "cell_type": "code",
   "execution_count": 280,
   "metadata": {},
   "outputs": [],
   "source": [
    "Message=df.groupby(\"Name\")[\"Text\"].count().sort_values()"
   ]
  },
  {
   "cell_type": "code",
   "execution_count": 281,
   "metadata": {},
   "outputs": [
    {
     "data": {
      "text/html": [
       "<div>\n",
       "<style scoped>\n",
       "    .dataframe tbody tr th:only-of-type {\n",
       "        vertical-align: middle;\n",
       "    }\n",
       "\n",
       "    .dataframe tbody tr th {\n",
       "        vertical-align: top;\n",
       "    }\n",
       "\n",
       "    .dataframe thead th {\n",
       "        text-align: right;\n",
       "    }\n",
       "</style>\n",
       "<table border=\"1\" class=\"dataframe\">\n",
       "  <thead>\n",
       "    <tr style=\"text-align: right;\">\n",
       "      <th></th>\n",
       "      <th>Name</th>\n",
       "      <th>Text</th>\n",
       "    </tr>\n",
       "  </thead>\n",
       "  <tbody>\n",
       "    <tr>\n",
       "      <th>0</th>\n",
       "      <td>Lakshmi Great Lakes</td>\n",
       "      <td>68</td>\n",
       "    </tr>\n",
       "    <tr>\n",
       "      <th>1</th>\n",
       "      <td>Viswa Great Lakes</td>\n",
       "      <td>843</td>\n",
       "    </tr>\n",
       "    <tr>\n",
       "      <th>2</th>\n",
       "      <td>Ajith Great Lakes</td>\n",
       "      <td>1071</td>\n",
       "    </tr>\n",
       "    <tr>\n",
       "      <th>3</th>\n",
       "      <td>Sangeeth Great Lakes</td>\n",
       "      <td>1210</td>\n",
       "    </tr>\n",
       "    <tr>\n",
       "      <th>4</th>\n",
       "      <td>Azhagu Great Lakes</td>\n",
       "      <td>1860</td>\n",
       "    </tr>\n",
       "    <tr>\n",
       "      <th>5</th>\n",
       "      <td>Ajay Great Lakes</td>\n",
       "      <td>2235</td>\n",
       "    </tr>\n",
       "    <tr>\n",
       "      <th>6</th>\n",
       "      <td>Sudarshan Great Lakes</td>\n",
       "      <td>2276</td>\n",
       "    </tr>\n",
       "    <tr>\n",
       "      <th>7</th>\n",
       "      <td>srivatsansabarish😍</td>\n",
       "      <td>2395</td>\n",
       "    </tr>\n",
       "  </tbody>\n",
       "</table>\n",
       "</div>"
      ],
      "text/plain": [
       "                    Name  Text\n",
       "0    Lakshmi Great Lakes    68\n",
       "1      Viswa Great Lakes   843\n",
       "2      Ajith Great Lakes  1071\n",
       "3   Sangeeth Great Lakes  1210\n",
       "4     Azhagu Great Lakes  1860\n",
       "5       Ajay Great Lakes  2235\n",
       "6  Sudarshan Great Lakes  2276\n",
       "7     srivatsansabarish😍  2395"
      ]
     },
     "execution_count": 281,
     "metadata": {},
     "output_type": "execute_result"
    }
   ],
   "source": [
    "Message=Message.reset_index(drop=False)\n",
    "Message"
   ]
  },
  {
   "cell_type": "code",
   "execution_count": 303,
   "metadata": {},
   "outputs": [
    {
     "data": {
      "text/plain": [
       "(array([0, 1, 2, 3, 4, 5, 6, 7]), <a list of 8 Text xticklabel objects>)"
      ]
     },
     "execution_count": 303,
     "metadata": {},
     "output_type": "execute_result"
    },
    {
     "data": {
      "image/png": "[encoded data removed]",
      "text/plain": [
       "<Figure size 432x288 with 1 Axes>"
      ]
     },
     "metadata": {
      "needs_background": "light"
     },
     "output_type": "display_data"
    }
   ],
   "source": [
    "sns.barplot(x='Name', y='Text', data=Message,palette=\"bright\").set_title(\"Total chat count from each user\")\n",
    "plt.xticks(rotation=75)"
   ]
  },
  {
   "cell_type": "markdown",
   "metadata": {},
   "source": [
    "### Total count of words by each person"
   ]
  },
  {
   "cell_type": "code",
   "execution_count": 283,
   "metadata": {},
   "outputs": [],
   "source": [
    "Text_len=df.groupby(['Name'])['Word_count'].sum()\n"
   ]
  },
  {
   "cell_type": "code",
   "execution_count": 284,
   "metadata": {},
   "outputs": [
    {
     "data": {
      "text/html": [
       "<div>\n",
       "<style scoped>\n",
       "    .dataframe tbody tr th:only-of-type {\n",
       "        vertical-align: middle;\n",
       "    }\n",
       "\n",
       "    .dataframe tbody tr th {\n",
       "        vertical-align: top;\n",
       "    }\n",
       "\n",
       "    .dataframe thead th {\n",
       "        text-align: right;\n",
       "    }\n",
       "</style>\n",
       "<table border=\"1\" class=\"dataframe\">\n",
       "  <thead>\n",
       "    <tr style=\"text-align: right;\">\n",
       "      <th></th>\n",
       "      <th>Name</th>\n",
       "      <th>Word_count</th>\n",
       "    </tr>\n",
       "  </thead>\n",
       "  <tbody>\n",
       "    <tr>\n",
       "      <th>0</th>\n",
       "      <td>Ajay Great Lakes</td>\n",
       "      <td>42743</td>\n",
       "    </tr>\n",
       "    <tr>\n",
       "      <th>1</th>\n",
       "      <td>Ajith Great Lakes</td>\n",
       "      <td>17857</td>\n",
       "    </tr>\n",
       "    <tr>\n",
       "      <th>2</th>\n",
       "      <td>Azhagu Great Lakes</td>\n",
       "      <td>29735</td>\n",
       "    </tr>\n",
       "    <tr>\n",
       "      <th>3</th>\n",
       "      <td>Lakshmi Great Lakes</td>\n",
       "      <td>1041</td>\n",
       "    </tr>\n",
       "    <tr>\n",
       "      <th>4</th>\n",
       "      <td>Sangeeth Great Lakes</td>\n",
       "      <td>28391</td>\n",
       "    </tr>\n",
       "    <tr>\n",
       "      <th>5</th>\n",
       "      <td>Sudarshan Great Lakes</td>\n",
       "      <td>60132</td>\n",
       "    </tr>\n",
       "    <tr>\n",
       "      <th>6</th>\n",
       "      <td>Viswa Great Lakes</td>\n",
       "      <td>17556</td>\n",
       "    </tr>\n",
       "    <tr>\n",
       "      <th>7</th>\n",
       "      <td>srivatsansabarish😍</td>\n",
       "      <td>70325</td>\n",
       "    </tr>\n",
       "  </tbody>\n",
       "</table>\n",
       "</div>"
      ],
      "text/plain": [
       "                    Name  Word_count\n",
       "0       Ajay Great Lakes       42743\n",
       "1      Ajith Great Lakes       17857\n",
       "2     Azhagu Great Lakes       29735\n",
       "3    Lakshmi Great Lakes        1041\n",
       "4   Sangeeth Great Lakes       28391\n",
       "5  Sudarshan Great Lakes       60132\n",
       "6      Viswa Great Lakes       17556\n",
       "7     srivatsansabarish😍       70325"
      ]
     },
     "execution_count": 284,
     "metadata": {},
     "output_type": "execute_result"
    }
   ],
   "source": [
    "Text_len=Text_len.reset_index(drop=False)\n",
    "Text_len"
   ]
  },
  {
   "cell_type": "code",
   "execution_count": 285,
   "metadata": {},
   "outputs": [
    {
     "data": {
      "text/plain": [
       "(array([0, 1, 2, 3, 4, 5, 6, 7]), <a list of 8 Text xticklabel objects>)"
      ]
     },
     "execution_count": 285,
     "metadata": {},
     "output_type": "execute_result"
    },
    {
     "data": {
      "image/png": "[encoded data removed]",
      "text/plain": [
       "<Figure size 432x288 with 1 Axes>"
      ]
     },
     "metadata": {
      "needs_background": "light"
     },
     "output_type": "display_data"
    }
   ],
   "source": [
    "sns.barplot(x='Name', y='Word_count', data=Text_len,palette=\"Set3\").set_title(\"Total count of words by each person\")\n",
    "plt.xticks(rotation=75)"
   ]
  },
  {
   "cell_type": "markdown",
   "metadata": {},
   "source": [
    "### Media shared by each person"
   ]
  },
  {
   "cell_type": "code",
   "execution_count": 286,
   "metadata": {},
   "outputs": [],
   "source": [
    "Media=df.groupby(\"Name\")[\"Media\"].sum().sort_values()"
   ]
  },
  {
   "cell_type": "code",
   "execution_count": 287,
   "metadata": {},
   "outputs": [],
   "source": [
    "Media=Media.reset_index(drop=False)"
   ]
  },
  {
   "cell_type": "code",
   "execution_count": 288,
   "metadata": {},
   "outputs": [
    {
     "data": {
      "text/html": [
       "<div>\n",
       "<style scoped>\n",
       "    .dataframe tbody tr th:only-of-type {\n",
       "        vertical-align: middle;\n",
       "    }\n",
       "\n",
       "    .dataframe tbody tr th {\n",
       "        vertical-align: top;\n",
       "    }\n",
       "\n",
       "    .dataframe thead th {\n",
       "        text-align: right;\n",
       "    }\n",
       "</style>\n",
       "<table border=\"1\" class=\"dataframe\">\n",
       "  <thead>\n",
       "    <tr style=\"text-align: right;\">\n",
       "      <th></th>\n",
       "      <th>Name</th>\n",
       "      <th>Media</th>\n",
       "    </tr>\n",
       "  </thead>\n",
       "  <tbody>\n",
       "    <tr>\n",
       "      <th>0</th>\n",
       "      <td>Lakshmi Great Lakes</td>\n",
       "      <td>1.0</td>\n",
       "    </tr>\n",
       "    <tr>\n",
       "      <th>1</th>\n",
       "      <td>Viswa Great Lakes</td>\n",
       "      <td>53.0</td>\n",
       "    </tr>\n",
       "    <tr>\n",
       "      <th>2</th>\n",
       "      <td>Sudarshan Great Lakes</td>\n",
       "      <td>65.0</td>\n",
       "    </tr>\n",
       "    <tr>\n",
       "      <th>3</th>\n",
       "      <td>Ajith Great Lakes</td>\n",
       "      <td>89.0</td>\n",
       "    </tr>\n",
       "    <tr>\n",
       "      <th>4</th>\n",
       "      <td>srivatsansabarish😍</td>\n",
       "      <td>96.0</td>\n",
       "    </tr>\n",
       "    <tr>\n",
       "      <th>5</th>\n",
       "      <td>Ajay Great Lakes</td>\n",
       "      <td>107.0</td>\n",
       "    </tr>\n",
       "    <tr>\n",
       "      <th>6</th>\n",
       "      <td>Sangeeth Great Lakes</td>\n",
       "      <td>181.0</td>\n",
       "    </tr>\n",
       "    <tr>\n",
       "      <th>7</th>\n",
       "      <td>Azhagu Great Lakes</td>\n",
       "      <td>217.0</td>\n",
       "    </tr>\n",
       "  </tbody>\n",
       "</table>\n",
       "</div>"
      ],
      "text/plain": [
       "                    Name  Media\n",
       "0    Lakshmi Great Lakes    1.0\n",
       "1      Viswa Great Lakes   53.0\n",
       "2  Sudarshan Great Lakes   65.0\n",
       "3      Ajith Great Lakes   89.0\n",
       "4     srivatsansabarish😍   96.0\n",
       "5       Ajay Great Lakes  107.0\n",
       "6   Sangeeth Great Lakes  181.0\n",
       "7     Azhagu Great Lakes  217.0"
      ]
     },
     "execution_count": 288,
     "metadata": {},
     "output_type": "execute_result"
    }
   ],
   "source": [
    "Media"
   ]
  },
  {
   "cell_type": "code",
   "execution_count": 289,
   "metadata": {},
   "outputs": [
    {
     "data": {
      "text/plain": [
       "(array([0, 1, 2, 3, 4, 5, 6, 7]), <a list of 8 Text xticklabel objects>)"
      ]
     },
     "execution_count": 289,
     "metadata": {},
     "output_type": "execute_result"
    },
    {
     "data": {
      "image/png": "[encoded data removed]",
      "text/plain": [
       "<Figure size 432x288 with 1 Axes>"
      ]
     },
     "metadata": {
      "needs_background": "light"
     },
     "output_type": "display_data"
    }
   ],
   "source": [
    "sns.barplot(x='Name', y='Media', data=Media,palette=\"Blues\").set_title(\"Media shared by each person\")\n",
    "plt.xticks(rotation=75)\n",
    "plt.xticks(rotation=75)"
   ]
  },
  {
   "cell_type": "markdown",
   "metadata": {},
   "source": [
    "### Amount of Media shared in each month"
   ]
  },
  {
   "cell_type": "code",
   "execution_count": 290,
   "metadata": {},
   "outputs": [],
   "source": [
    "month_media=df.groupby(df['Date'].dt.strftime('%B'))['Media'].sum()\n"
   ]
  },
  {
   "cell_type": "code",
   "execution_count": 291,
   "metadata": {},
   "outputs": [
    {
     "data": {
      "text/plain": [
       "Date\n",
       "April         35.0\n",
       "August       102.0\n",
       "December      17.0\n",
       "February       7.0\n",
       "January       11.0\n",
       "July          11.0\n",
       "March          0.0\n",
       "November     290.0\n",
       "October      224.0\n",
       "September    112.0\n",
       "Name: Media, dtype: float64"
      ]
     },
     "execution_count": 291,
     "metadata": {},
     "output_type": "execute_result"
    }
   ],
   "source": [
    "month_media"
   ]
  },
  {
   "cell_type": "code",
   "execution_count": 292,
   "metadata": {},
   "outputs": [],
   "source": [
    "month_media=month_media.reset_index(drop=False)"
   ]
  },
  {
   "cell_type": "code",
   "execution_count": 293,
   "metadata": {},
   "outputs": [
    {
     "data": {
      "text/html": [
       "<div>\n",
       "<style scoped>\n",
       "    .dataframe tbody tr th:only-of-type {\n",
       "        vertical-align: middle;\n",
       "    }\n",
       "\n",
       "    .dataframe tbody tr th {\n",
       "        vertical-align: top;\n",
       "    }\n",
       "\n",
       "    .dataframe thead th {\n",
       "        text-align: right;\n",
       "    }\n",
       "</style>\n",
       "<table border=\"1\" class=\"dataframe\">\n",
       "  <thead>\n",
       "    <tr style=\"text-align: right;\">\n",
       "      <th></th>\n",
       "      <th>Date</th>\n",
       "      <th>Media</th>\n",
       "    </tr>\n",
       "  </thead>\n",
       "  <tbody>\n",
       "    <tr>\n",
       "      <th>0</th>\n",
       "      <td>April</td>\n",
       "      <td>35.0</td>\n",
       "    </tr>\n",
       "    <tr>\n",
       "      <th>1</th>\n",
       "      <td>August</td>\n",
       "      <td>102.0</td>\n",
       "    </tr>\n",
       "    <tr>\n",
       "      <th>2</th>\n",
       "      <td>December</td>\n",
       "      <td>17.0</td>\n",
       "    </tr>\n",
       "    <tr>\n",
       "      <th>3</th>\n",
       "      <td>February</td>\n",
       "      <td>7.0</td>\n",
       "    </tr>\n",
       "    <tr>\n",
       "      <th>4</th>\n",
       "      <td>January</td>\n",
       "      <td>11.0</td>\n",
       "    </tr>\n",
       "    <tr>\n",
       "      <th>5</th>\n",
       "      <td>July</td>\n",
       "      <td>11.0</td>\n",
       "    </tr>\n",
       "    <tr>\n",
       "      <th>6</th>\n",
       "      <td>March</td>\n",
       "      <td>0.0</td>\n",
       "    </tr>\n",
       "    <tr>\n",
       "      <th>7</th>\n",
       "      <td>November</td>\n",
       "      <td>290.0</td>\n",
       "    </tr>\n",
       "    <tr>\n",
       "      <th>8</th>\n",
       "      <td>October</td>\n",
       "      <td>224.0</td>\n",
       "    </tr>\n",
       "    <tr>\n",
       "      <th>9</th>\n",
       "      <td>September</td>\n",
       "      <td>112.0</td>\n",
       "    </tr>\n",
       "  </tbody>\n",
       "</table>\n",
       "</div>"
      ],
      "text/plain": [
       "        Date  Media\n",
       "0      April   35.0\n",
       "1     August  102.0\n",
       "2   December   17.0\n",
       "3   February    7.0\n",
       "4    January   11.0\n",
       "5       July   11.0\n",
       "6      March    0.0\n",
       "7   November  290.0\n",
       "8    October  224.0\n",
       "9  September  112.0"
      ]
     },
     "execution_count": 293,
     "metadata": {},
     "output_type": "execute_result"
    }
   ],
   "source": [
    "month_media"
   ]
  },
  {
   "cell_type": "code",
   "execution_count": 294,
   "metadata": {},
   "outputs": [
    {
     "data": {
      "text/plain": [
       "(array([0, 1, 2, 3, 4, 5, 6, 7, 8, 9]), <a list of 10 Text xticklabel objects>)"
      ]
     },
     "execution_count": 294,
     "metadata": {},
     "output_type": "execute_result"
    },
    {
     "data": {
      "image/png": "[encoded data removed]",
      "text/plain": [
       "<Figure size 432x288 with 1 Axes>"
      ]
     },
     "metadata": {
      "needs_background": "light"
     },
     "output_type": "display_data"
    }
   ],
   "source": [
    "sns.barplot(x=\"Date\",y=\"Media\",data=month_media,palette=\"coolwarm\").set_title(\"Amount of Media shared in each month\")\n",
    "plt.xticks(rotation=90)"
   ]
  },
  {
   "cell_type": "markdown",
   "metadata": {},
   "source": [
    "### Total Number of chats in each month"
   ]
  },
  {
   "cell_type": "code",
   "execution_count": 295,
   "metadata": {},
   "outputs": [],
   "source": [
    "month_text=df.groupby(df['Date'].dt.strftime('%B'))['Text'].count().sort_values()"
   ]
  },
  {
   "cell_type": "code",
   "execution_count": 296,
   "metadata": {},
   "outputs": [
    {
     "data": {
      "text/html": [
       "<div>\n",
       "<style scoped>\n",
       "    .dataframe tbody tr th:only-of-type {\n",
       "        vertical-align: middle;\n",
       "    }\n",
       "\n",
       "    .dataframe tbody tr th {\n",
       "        vertical-align: top;\n",
       "    }\n",
       "\n",
       "    .dataframe thead th {\n",
       "        text-align: right;\n",
       "    }\n",
       "</style>\n",
       "<table border=\"1\" class=\"dataframe\">\n",
       "  <thead>\n",
       "    <tr style=\"text-align: right;\">\n",
       "      <th></th>\n",
       "      <th>Date</th>\n",
       "      <th>Text</th>\n",
       "    </tr>\n",
       "  </thead>\n",
       "  <tbody>\n",
       "    <tr>\n",
       "      <th>0</th>\n",
       "      <td>March</td>\n",
       "      <td>25</td>\n",
       "    </tr>\n",
       "    <tr>\n",
       "      <th>1</th>\n",
       "      <td>January</td>\n",
       "      <td>75</td>\n",
       "    </tr>\n",
       "    <tr>\n",
       "      <th>2</th>\n",
       "      <td>February</td>\n",
       "      <td>137</td>\n",
       "    </tr>\n",
       "    <tr>\n",
       "      <th>3</th>\n",
       "      <td>April</td>\n",
       "      <td>283</td>\n",
       "    </tr>\n",
       "    <tr>\n",
       "      <th>4</th>\n",
       "      <td>December</td>\n",
       "      <td>589</td>\n",
       "    </tr>\n",
       "    <tr>\n",
       "      <th>5</th>\n",
       "      <td>July</td>\n",
       "      <td>634</td>\n",
       "    </tr>\n",
       "    <tr>\n",
       "      <th>6</th>\n",
       "      <td>September</td>\n",
       "      <td>1645</td>\n",
       "    </tr>\n",
       "    <tr>\n",
       "      <th>7</th>\n",
       "      <td>August</td>\n",
       "      <td>2293</td>\n",
       "    </tr>\n",
       "    <tr>\n",
       "      <th>8</th>\n",
       "      <td>October</td>\n",
       "      <td>2381</td>\n",
       "    </tr>\n",
       "    <tr>\n",
       "      <th>9</th>\n",
       "      <td>November</td>\n",
       "      <td>3896</td>\n",
       "    </tr>\n",
       "  </tbody>\n",
       "</table>\n",
       "</div>"
      ],
      "text/plain": [
       "        Date  Text\n",
       "0      March    25\n",
       "1    January    75\n",
       "2   February   137\n",
       "3      April   283\n",
       "4   December   589\n",
       "5       July   634\n",
       "6  September  1645\n",
       "7     August  2293\n",
       "8    October  2381\n",
       "9   November  3896"
      ]
     },
     "execution_count": 296,
     "metadata": {},
     "output_type": "execute_result"
    }
   ],
   "source": [
    "month_text=month_text.reset_index(drop=False)\n",
    "month_text"
   ]
  },
  {
   "cell_type": "code",
   "execution_count": 297,
   "metadata": {},
   "outputs": [
    {
     "data": {
      "text/plain": [
       "(array([0, 1, 2, 3, 4, 5, 6, 7, 8, 9]), <a list of 10 Text xticklabel objects>)"
      ]
     },
     "execution_count": 297,
     "metadata": {},
     "output_type": "execute_result"
    },
    {
     "data": {
      "image/png": "[encoded data removed]",
      "text/plain": [
       "<Figure size 432x288 with 1 Axes>"
      ]
     },
     "metadata": {
      "needs_background": "light"
     },
     "output_type": "display_data"
    }
   ],
   "source": [
    "sns.barplot(x=\"Date\",y=\"Text\",data=month_text).set_title(\"Total Number of chats in each month\")\n",
    "plt.xticks(rotation=90)"
   ]
  },
  {
   "cell_type": "markdown",
   "metadata": {},
   "source": [
    "### Number of Text by hour "
   ]
  },
  {
   "cell_type": "code",
   "execution_count": 298,
   "metadata": {},
   "outputs": [],
   "source": [
    "df['Time']= pd.to_datetime(df['Time'])"
   ]
  },
  {
   "cell_type": "code",
   "execution_count": 299,
   "metadata": {},
   "outputs": [
    {
     "data": {
      "text/plain": [
       "2        20\n",
       "3        20\n",
       "4        20\n",
       "5        20\n",
       "6        20\n",
       "         ..\n",
       "12214    20\n",
       "12215    20\n",
       "12216    20\n",
       "12217    20\n",
       "12218    20\n",
       "Name: Time, Length: 11958, dtype: int64"
      ]
     },
     "execution_count": 299,
     "metadata": {},
     "output_type": "execute_result"
    }
   ],
   "source": [
    "df[\"Time\"].dt.hour"
   ]
  },
  {
   "cell_type": "code",
   "execution_count": 306,
   "metadata": {},
   "outputs": [],
   "source": [
    "hour_text=df.groupby([df[\"Time\"].dt.hour])[\"Text\"].count().sort_values()"
   ]
  },
  {
   "cell_type": "code",
   "execution_count": 307,
   "metadata": {},
   "outputs": [
    {
     "data": {
      "text/html": [
       "<div>\n",
       "<style scoped>\n",
       "    .dataframe tbody tr th:only-of-type {\n",
       "        vertical-align: middle;\n",
       "    }\n",
       "\n",
       "    .dataframe tbody tr th {\n",
       "        vertical-align: top;\n",
       "    }\n",
       "\n",
       "    .dataframe thead th {\n",
       "        text-align: right;\n",
       "    }\n",
       "</style>\n",
       "<table border=\"1\" class=\"dataframe\">\n",
       "  <thead>\n",
       "    <tr style=\"text-align: right;\">\n",
       "      <th></th>\n",
       "      <th>Time</th>\n",
       "      <th>Text</th>\n",
       "    </tr>\n",
       "  </thead>\n",
       "  <tbody>\n",
       "    <tr>\n",
       "      <th>0</th>\n",
       "      <td>4</td>\n",
       "      <td>1</td>\n",
       "    </tr>\n",
       "    <tr>\n",
       "      <th>1</th>\n",
       "      <td>3</td>\n",
       "      <td>2</td>\n",
       "    </tr>\n",
       "    <tr>\n",
       "      <th>2</th>\n",
       "      <td>5</td>\n",
       "      <td>8</td>\n",
       "    </tr>\n",
       "    <tr>\n",
       "      <th>3</th>\n",
       "      <td>6</td>\n",
       "      <td>9</td>\n",
       "    </tr>\n",
       "    <tr>\n",
       "      <th>4</th>\n",
       "      <td>2</td>\n",
       "      <td>17</td>\n",
       "    </tr>\n",
       "    <tr>\n",
       "      <th>5</th>\n",
       "      <td>1</td>\n",
       "      <td>50</td>\n",
       "    </tr>\n",
       "    <tr>\n",
       "      <th>6</th>\n",
       "      <td>7</td>\n",
       "      <td>77</td>\n",
       "    </tr>\n",
       "    <tr>\n",
       "      <th>7</th>\n",
       "      <td>8</td>\n",
       "      <td>235</td>\n",
       "    </tr>\n",
       "    <tr>\n",
       "      <th>8</th>\n",
       "      <td>15</td>\n",
       "      <td>385</td>\n",
       "    </tr>\n",
       "    <tr>\n",
       "      <th>9</th>\n",
       "      <td>0</td>\n",
       "      <td>390</td>\n",
       "    </tr>\n",
       "    <tr>\n",
       "      <th>10</th>\n",
       "      <td>14</td>\n",
       "      <td>455</td>\n",
       "    </tr>\n",
       "    <tr>\n",
       "      <th>11</th>\n",
       "      <td>10</td>\n",
       "      <td>468</td>\n",
       "    </tr>\n",
       "    <tr>\n",
       "      <th>12</th>\n",
       "      <td>17</td>\n",
       "      <td>493</td>\n",
       "    </tr>\n",
       "    <tr>\n",
       "      <th>13</th>\n",
       "      <td>13</td>\n",
       "      <td>509</td>\n",
       "    </tr>\n",
       "    <tr>\n",
       "      <th>14</th>\n",
       "      <td>12</td>\n",
       "      <td>514</td>\n",
       "    </tr>\n",
       "    <tr>\n",
       "      <th>15</th>\n",
       "      <td>11</td>\n",
       "      <td>530</td>\n",
       "    </tr>\n",
       "    <tr>\n",
       "      <th>16</th>\n",
       "      <td>16</td>\n",
       "      <td>595</td>\n",
       "    </tr>\n",
       "    <tr>\n",
       "      <th>17</th>\n",
       "      <td>9</td>\n",
       "      <td>701</td>\n",
       "    </tr>\n",
       "    <tr>\n",
       "      <th>18</th>\n",
       "      <td>18</td>\n",
       "      <td>820</td>\n",
       "    </tr>\n",
       "    <tr>\n",
       "      <th>19</th>\n",
       "      <td>19</td>\n",
       "      <td>860</td>\n",
       "    </tr>\n",
       "    <tr>\n",
       "      <th>20</th>\n",
       "      <td>21</td>\n",
       "      <td>958</td>\n",
       "    </tr>\n",
       "    <tr>\n",
       "      <th>21</th>\n",
       "      <td>23</td>\n",
       "      <td>1103</td>\n",
       "    </tr>\n",
       "    <tr>\n",
       "      <th>22</th>\n",
       "      <td>20</td>\n",
       "      <td>1214</td>\n",
       "    </tr>\n",
       "    <tr>\n",
       "      <th>23</th>\n",
       "      <td>22</td>\n",
       "      <td>1564</td>\n",
       "    </tr>\n",
       "  </tbody>\n",
       "</table>\n",
       "</div>"
      ],
      "text/plain": [
       "    Time  Text\n",
       "0      4     1\n",
       "1      3     2\n",
       "2      5     8\n",
       "3      6     9\n",
       "4      2    17\n",
       "5      1    50\n",
       "6      7    77\n",
       "7      8   235\n",
       "8     15   385\n",
       "9      0   390\n",
       "10    14   455\n",
       "11    10   468\n",
       "12    17   493\n",
       "13    13   509\n",
       "14    12   514\n",
       "15    11   530\n",
       "16    16   595\n",
       "17     9   701\n",
       "18    18   820\n",
       "19    19   860\n",
       "20    21   958\n",
       "21    23  1103\n",
       "22    20  1214\n",
       "23    22  1564"
      ]
     },
     "execution_count": 307,
     "metadata": {},
     "output_type": "execute_result"
    }
   ],
   "source": [
    "hour_text=hour_text.reset_index(drop=False)\n",
    "hour_text"
   ]
  },
  {
   "cell_type": "code",
   "execution_count": 302,
   "metadata": {},
   "outputs": [
    {
     "data": {
      "text/plain": [
       "(array([ 0,  1,  2,  3,  4,  5,  6,  7,  8,  9, 10, 11, 12, 13, 14, 15, 16,\n",
       "        17, 18, 19, 20, 21, 22, 23]),\n",
       " <a list of 24 Text xticklabel objects>)"
      ]
     },
     "execution_count": 302,
     "metadata": {},
     "output_type": "execute_result"
    },
    {
     "data": {
      "image/png": "[encoded data removed]",
      "text/plain": [
       "<Figure size 432x288 with 1 Axes>"
      ]
     },
     "metadata": {
      "needs_background": "light"
     },
     "output_type": "display_data"
    }
   ],
   "source": [
    "sns.barplot(x=\"Time\",y=\"Text\",data=hour_text).set_title(\"Number of Text by hour\")\n",
    "plt.xticks(rotation=90)"
   ]
  },
  {
   "cell_type": "markdown",
   "metadata": {},
   "source": [
    "#### It shows that 8 P.M to 12 P.M the group becomes very active."
   ]
  },
  {
   "cell_type": "code",
   "execution_count": null,
   "metadata": {},
   "outputs": [],
   "source": []
  },
  {
   "cell_type": "code",
   "execution_count": null,
   "metadata": {},
   "outputs": [],
   "source": []
  }
 ],
 "metadata": {
  "kernelspec": {
   "display_name": "Python 3",
   "language": "python",
   "name": "python3"
  },
  "language_info": {
   "codemirror_mode": {
    "name": "ipython",
    "version": 3
   },
   "file_extension": ".py",
   "mimetype": "text/x-python",
   "name": "python",
   "nbconvert_exporter": "python",
   "pygments_lexer": "ipython3",
   "version": "3.7.6"
  }
 },
 "nbformat": 4,
 "nbformat_minor": 2
}
